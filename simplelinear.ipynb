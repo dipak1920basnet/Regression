{
 "cells": [
  {
   "cell_type": "code",
   "execution_count": 1,
   "id": "b65cc6bd",
   "metadata": {},
   "outputs": [
    {
     "name": "stdout",
     "output_type": "stream",
     "text": [
      "Defaulting to user installation because normal site-packages is not writeable\n",
      "Collecting numpy\n",
      "  Downloading numpy-2.3.0-cp312-cp312-win_amd64.whl.metadata (60 kB)\n",
      "Downloading numpy-2.3.0-cp312-cp312-win_amd64.whl (12.7 MB)\n",
      "   ---------------------------------------- 0.0/12.7 MB ? eta -:--:--\n",
      "    --------------------------------------- 0.3/12.7 MB ? eta -:--:--\n",
      "   ----- ---------------------------------- 1.8/12.7 MB 6.7 MB/s eta 0:00:02\n",
      "   -------------- ------------------------- 4.5/12.7 MB 9.3 MB/s eta 0:00:01\n",
      "   ------------------- -------------------- 6.3/12.7 MB 9.0 MB/s eta 0:00:01\n",
      "   ---------------------------- ----------- 8.9/12.7 MB 9.9 MB/s eta 0:00:01\n",
      "   ------------------------------------ --- 11.5/12.7 MB 10.8 MB/s eta 0:00:01\n",
      "   ---------------------------------------- 12.7/12.7 MB 10.0 MB/s eta 0:00:00\n",
      "Installing collected packages: numpy\n",
      "Successfully installed numpy-2.3.0\n",
      "Note: you may need to restart the kernel to use updated packages.\n"
     ]
    },
    {
     "name": "stderr",
     "output_type": "stream",
     "text": [
      "\n",
      "[notice] A new release of pip is available: 25.0.1 -> 25.1.1\n",
      "[notice] To update, run: C:\\Users\\dipak\\AppData\\Local\\Microsoft\\WindowsApps\\PythonSoftwareFoundation.Python.3.12_qbz5n2kfra8p0\\python.exe -m pip install --upgrade pip\n"
     ]
    }
   ],
   "source": [
    "pip install numpy"
   ]
  },
  {
   "cell_type": "code",
   "execution_count": 2,
   "id": "42ca046b",
   "metadata": {},
   "outputs": [
    {
     "name": "stdout",
     "output_type": "stream",
     "text": [
      "Defaulting to user installation because normal site-packages is not writeable\n",
      "Collecting pandas\n",
      "  Downloading pandas-2.3.0-cp312-cp312-win_amd64.whl.metadata (19 kB)\n",
      "Requirement already satisfied: numpy>=1.26.0 in c:\\users\\dipak\\appdata\\local\\packages\\pythonsoftwarefoundation.python.3.12_qbz5n2kfra8p0\\localcache\\local-packages\\python312\\site-packages (from pandas) (2.3.0)\n",
      "Requirement already satisfied: python-dateutil>=2.8.2 in c:\\users\\dipak\\appdata\\local\\packages\\pythonsoftwarefoundation.python.3.12_qbz5n2kfra8p0\\localcache\\local-packages\\python312\\site-packages (from pandas) (2.9.0.post0)\n",
      "Collecting pytz>=2020.1 (from pandas)\n",
      "  Downloading pytz-2025.2-py2.py3-none-any.whl.metadata (22 kB)\n",
      "Collecting tzdata>=2022.7 (from pandas)\n",
      "  Downloading tzdata-2025.2-py2.py3-none-any.whl.metadata (1.4 kB)\n",
      "Requirement already satisfied: six>=1.5 in c:\\users\\dipak\\appdata\\local\\packages\\pythonsoftwarefoundation.python.3.12_qbz5n2kfra8p0\\localcache\\local-packages\\python312\\site-packages (from python-dateutil>=2.8.2->pandas) (1.16.0)\n",
      "Downloading pandas-2.3.0-cp312-cp312-win_amd64.whl (11.0 MB)\n",
      "   ---------------------------------------- 0.0/11.0 MB ? eta -:--:--\n",
      "    --------------------------------------- 0.3/11.0 MB ? eta -:--:--\n",
      "   --- ------------------------------------ 1.0/11.0 MB 4.2 MB/s eta 0:00:03\n",
      "   -------------- ------------------------- 3.9/11.0 MB 9.0 MB/s eta 0:00:01\n",
      "   --------------------------- ------------ 7.6/11.0 MB 12.4 MB/s eta 0:00:01\n",
      "   ---------------------------------------  10.7/11.0 MB 12.7 MB/s eta 0:00:01\n",
      "   ---------------------------------------- 11.0/11.0 MB 11.6 MB/s eta 0:00:00\n",
      "Downloading pytz-2025.2-py2.py3-none-any.whl (509 kB)\n",
      "Downloading tzdata-2025.2-py2.py3-none-any.whl (347 kB)\n",
      "Installing collected packages: pytz, tzdata, pandas\n",
      "Successfully installed pandas-2.3.0 pytz-2025.2 tzdata-2025.2\n",
      "Note: you may need to restart the kernel to use updated packages.\n"
     ]
    },
    {
     "name": "stderr",
     "output_type": "stream",
     "text": [
      "\n",
      "[notice] A new release of pip is available: 25.0.1 -> 25.1.1\n",
      "[notice] To update, run: C:\\Users\\dipak\\AppData\\Local\\Microsoft\\WindowsApps\\PythonSoftwareFoundation.Python.3.12_qbz5n2kfra8p0\\python.exe -m pip install --upgrade pip\n"
     ]
    }
   ],
   "source": [
    "pip install pandas"
   ]
  },
  {
   "cell_type": "code",
   "execution_count": 3,
   "id": "790ca71f",
   "metadata": {},
   "outputs": [
    {
     "name": "stdout",
     "output_type": "stream",
     "text": [
      "Defaulting to user installation because normal site-packages is not writeable\n",
      "Collecting scikit-learn\n",
      "  Downloading scikit_learn-1.7.0-cp312-cp312-win_amd64.whl.metadata (14 kB)\n",
      "Requirement already satisfied: numpy>=1.22.0 in c:\\users\\dipak\\appdata\\local\\packages\\pythonsoftwarefoundation.python.3.12_qbz5n2kfra8p0\\localcache\\local-packages\\python312\\site-packages (from scikit-learn) (2.3.0)\n",
      "Collecting scipy>=1.8.0 (from scikit-learn)\n",
      "  Downloading scipy-1.15.3-cp312-cp312-win_amd64.whl.metadata (60 kB)\n",
      "Collecting joblib>=1.2.0 (from scikit-learn)\n",
      "  Downloading joblib-1.5.1-py3-none-any.whl.metadata (5.6 kB)\n",
      "Collecting threadpoolctl>=3.1.0 (from scikit-learn)\n",
      "  Downloading threadpoolctl-3.6.0-py3-none-any.whl.metadata (13 kB)\n",
      "Downloading scikit_learn-1.7.0-cp312-cp312-win_amd64.whl (10.7 MB)\n",
      "   ---------------------------------------- 0.0/10.7 MB ? eta -:--:--\n",
      "   - -------------------------------------- 0.5/10.7 MB 3.4 MB/s eta 0:00:04\n",
      "   -------- ------------------------------- 2.4/10.7 MB 6.7 MB/s eta 0:00:02\n",
      "   -------------------- ------------------- 5.5/10.7 MB 10.2 MB/s eta 0:00:01\n",
      "   -------------------------------- ------- 8.7/10.7 MB 11.9 MB/s eta 0:00:01\n",
      "   ---------------------------------------- 10.7/10.7 MB 11.9 MB/s eta 0:00:00\n",
      "Downloading joblib-1.5.1-py3-none-any.whl (307 kB)\n",
      "Downloading scipy-1.15.3-cp312-cp312-win_amd64.whl (41.0 MB)\n",
      "   ---------------------------------------- 0.0/41.0 MB ? eta -:--:--\n",
      "   --- ------------------------------------ 3.1/41.0 MB 16.8 MB/s eta 0:00:03\n",
      "   ----- ---------------------------------- 5.2/41.0 MB 13.3 MB/s eta 0:00:03\n",
      "   -------- ------------------------------- 8.9/41.0 MB 14.6 MB/s eta 0:00:03\n",
      "   ----------- ---------------------------- 11.8/41.0 MB 14.5 MB/s eta 0:00:03\n",
      "   ------------- -------------------------- 13.9/41.0 MB 13.6 MB/s eta 0:00:02\n",
      "   ---------------- ----------------------- 16.8/41.0 MB 13.5 MB/s eta 0:00:02\n",
      "   ------------------ --------------------- 18.6/41.0 MB 12.9 MB/s eta 0:00:02\n",
      "   ------------------- -------------------- 20.2/41.0 MB 12.3 MB/s eta 0:00:02\n",
      "   -------------------- ------------------- 21.0/41.0 MB 11.3 MB/s eta 0:00:02\n",
      "   --------------------- ------------------ 22.3/41.0 MB 10.8 MB/s eta 0:00:02\n",
      "   ----------------------- ---------------- 24.1/41.0 MB 10.5 MB/s eta 0:00:02\n",
      "   ------------------------ --------------- 25.4/41.0 MB 10.3 MB/s eta 0:00:02\n",
      "   -------------------------- ------------- 27.0/41.0 MB 10.1 MB/s eta 0:00:02\n",
      "   --------------------------- ------------ 28.0/41.0 MB 9.7 MB/s eta 0:00:02\n",
      "   ---------------------------- ----------- 29.1/41.0 MB 9.3 MB/s eta 0:00:02\n",
      "   ----------------------------- ---------- 30.7/41.0 MB 9.2 MB/s eta 0:00:02\n",
      "   ------------------------------ --------- 30.9/41.0 MB 8.9 MB/s eta 0:00:02\n",
      "   ------------------------------ --------- 31.7/41.0 MB 8.5 MB/s eta 0:00:02\n",
      "   ------------------------------- -------- 32.8/41.0 MB 8.2 MB/s eta 0:00:01\n",
      "   -------------------------------- ------- 33.0/41.0 MB 8.1 MB/s eta 0:00:01\n",
      "   --------------------------------- ------ 34.1/41.0 MB 7.8 MB/s eta 0:00:01\n",
      "   ---------------------------------- ----- 35.1/41.0 MB 7.7 MB/s eta 0:00:01\n",
      "   ---------------------------------- ----- 35.7/41.0 MB 7.5 MB/s eta 0:00:01\n",
      "   ----------------------------------- ---- 36.2/41.0 MB 7.3 MB/s eta 0:00:01\n",
      "   ----------------------------------- ---- 36.7/41.0 MB 7.1 MB/s eta 0:00:01\n",
      "   ------------------------------------ --- 37.2/41.0 MB 7.0 MB/s eta 0:00:01\n",
      "   ------------------------------------ --- 37.7/41.0 MB 6.7 MB/s eta 0:00:01\n",
      "   ------------------------------------ --- 37.7/41.0 MB 6.7 MB/s eta 0:00:01\n",
      "   ------------------------------------- -- 38.0/41.0 MB 6.4 MB/s eta 0:00:01\n",
      "   ------------------------------------- -- 38.5/41.0 MB 6.2 MB/s eta 0:00:01\n",
      "   -------------------------------------- - 39.1/41.0 MB 6.1 MB/s eta 0:00:01\n",
      "   -------------------------------------- - 39.6/41.0 MB 6.0 MB/s eta 0:00:01\n",
      "   -------------------------------------- - 39.8/41.0 MB 5.9 MB/s eta 0:00:01\n",
      "   ---------------------------------------  40.4/41.0 MB 5.7 MB/s eta 0:00:01\n",
      "   ---------------------------------------- 41.0/41.0 MB 5.6 MB/s eta 0:00:00\n",
      "Downloading threadpoolctl-3.6.0-py3-none-any.whl (18 kB)\n",
      "Installing collected packages: threadpoolctl, scipy, joblib, scikit-learn\n",
      "Successfully installed joblib-1.5.1 scikit-learn-1.7.0 scipy-1.15.3 threadpoolctl-3.6.0\n",
      "Note: you may need to restart the kernel to use updated packages.\n"
     ]
    },
    {
     "name": "stderr",
     "output_type": "stream",
     "text": [
      "\n",
      "[notice] A new release of pip is available: 25.0.1 -> 25.1.1\n",
      "[notice] To update, run: C:\\Users\\dipak\\AppData\\Local\\Microsoft\\WindowsApps\\PythonSoftwareFoundation.Python.3.12_qbz5n2kfra8p0\\python.exe -m pip install --upgrade pip\n"
     ]
    }
   ],
   "source": [
    "pip install scikit-learn"
   ]
  },
  {
   "cell_type": "code",
   "execution_count": 6,
   "id": "68f6d22d",
   "metadata": {},
   "outputs": [
    {
     "name": "stdout",
     "output_type": "stream",
     "text": [
      "Defaulting to user installation because normal site-packages is not writeable\n",
      "Collecting matplotlib\n",
      "  Downloading matplotlib-3.10.3-cp312-cp312-win_amd64.whl.metadata (11 kB)\n",
      "Collecting contourpy>=1.0.1 (from matplotlib)\n",
      "  Downloading contourpy-1.3.2-cp312-cp312-win_amd64.whl.metadata (5.5 kB)\n",
      "Collecting cycler>=0.10 (from matplotlib)\n",
      "  Using cached cycler-0.12.1-py3-none-any.whl.metadata (3.8 kB)\n",
      "Collecting fonttools>=4.22.0 (from matplotlib)\n",
      "  Downloading fonttools-4.58.2-cp312-cp312-win_amd64.whl.metadata (108 kB)\n",
      "Collecting kiwisolver>=1.3.1 (from matplotlib)\n",
      "  Downloading kiwisolver-1.4.8-cp312-cp312-win_amd64.whl.metadata (6.3 kB)\n",
      "Requirement already satisfied: numpy>=1.23 in c:\\users\\dipak\\appdata\\local\\packages\\pythonsoftwarefoundation.python.3.12_qbz5n2kfra8p0\\localcache\\local-packages\\python312\\site-packages (from matplotlib) (2.3.0)\n",
      "Requirement already satisfied: packaging>=20.0 in c:\\users\\dipak\\appdata\\local\\packages\\pythonsoftwarefoundation.python.3.12_qbz5n2kfra8p0\\localcache\\local-packages\\python312\\site-packages (from matplotlib) (24.2)\n",
      "Collecting pillow>=8 (from matplotlib)\n",
      "  Downloading pillow-11.2.1-cp312-cp312-win_amd64.whl.metadata (9.1 kB)\n",
      "Collecting pyparsing>=2.3.1 (from matplotlib)\n",
      "  Downloading pyparsing-3.2.3-py3-none-any.whl.metadata (5.0 kB)\n",
      "Requirement already satisfied: python-dateutil>=2.7 in c:\\users\\dipak\\appdata\\local\\packages\\pythonsoftwarefoundation.python.3.12_qbz5n2kfra8p0\\localcache\\local-packages\\python312\\site-packages (from matplotlib) (2.9.0.post0)\n",
      "Requirement already satisfied: six>=1.5 in c:\\users\\dipak\\appdata\\local\\packages\\pythonsoftwarefoundation.python.3.12_qbz5n2kfra8p0\\localcache\\local-packages\\python312\\site-packages (from python-dateutil>=2.7->matplotlib) (1.16.0)\n",
      "Downloading matplotlib-3.10.3-cp312-cp312-win_amd64.whl (8.1 MB)\n",
      "   ---------------------------------------- 0.0/8.1 MB ? eta -:--:--\n",
      "   -- ------------------------------------- 0.5/8.1 MB 3.4 MB/s eta 0:00:03\n",
      "   ------------ --------------------------- 2.6/8.1 MB 8.4 MB/s eta 0:00:01\n",
      "   ---------------------------- ----------- 5.8/8.1 MB 11.4 MB/s eta 0:00:01\n",
      "   ---------------------------------------- 8.1/8.1 MB 11.6 MB/s eta 0:00:00\n",
      "Downloading contourpy-1.3.2-cp312-cp312-win_amd64.whl (223 kB)\n",
      "Using cached cycler-0.12.1-py3-none-any.whl (8.3 kB)\n",
      "Downloading fonttools-4.58.2-cp312-cp312-win_amd64.whl (2.2 MB)\n",
      "   ---------------------------------------- 0.0/2.2 MB ? eta -:--:--\n",
      "   ---------------------------------------- 2.2/2.2 MB 14.0 MB/s eta 0:00:00\n",
      "Downloading kiwisolver-1.4.8-cp312-cp312-win_amd64.whl (71 kB)\n",
      "Downloading pillow-11.2.1-cp312-cp312-win_amd64.whl (2.7 MB)\n",
      "   ---------------------------------------- 0.0/2.7 MB ? eta -:--:--\n",
      "   ---------------------------------------- 2.7/2.7 MB 15.5 MB/s eta 0:00:00\n",
      "Downloading pyparsing-3.2.3-py3-none-any.whl (111 kB)\n",
      "Installing collected packages: pyparsing, pillow, kiwisolver, fonttools, cycler, contourpy, matplotlib\n",
      "Successfully installed contourpy-1.3.2 cycler-0.12.1 fonttools-4.58.2 kiwisolver-1.4.8 matplotlib-3.10.3 pillow-11.2.1 pyparsing-3.2.3\n",
      "Note: you may need to restart the kernel to use updated packages.\n"
     ]
    },
    {
     "name": "stderr",
     "output_type": "stream",
     "text": [
      "\n",
      "[notice] A new release of pip is available: 25.0.1 -> 25.1.1\n",
      "[notice] To update, run: C:\\Users\\dipak\\AppData\\Local\\Microsoft\\WindowsApps\\PythonSoftwareFoundation.Python.3.12_qbz5n2kfra8p0\\python.exe -m pip install --upgrade pip\n"
     ]
    }
   ],
   "source": [
    "pip install matplotlib"
   ]
  },
  {
   "cell_type": "code",
   "execution_count": 7,
   "id": "a4d688f2",
   "metadata": {},
   "outputs": [],
   "source": [
    "import numpy as np \n",
    "import matplotlib as plt\n",
    "import pandas as pd "
   ]
  },
  {
   "cell_type": "code",
   "execution_count": 8,
   "id": "a77eaa2c",
   "metadata": {},
   "outputs": [],
   "source": [
    "url= \"https://cf-courses-data.s3.us.cloud-object-storage.appdomain.cloud/IBMDeveloperSkillsNetwork-ML0101EN-SkillsNetwork/labs/Module%202/data/FuelConsumptionCo2.csv\""
   ]
  },
  {
   "cell_type": "code",
   "execution_count": 9,
   "id": "c689c3f4",
   "metadata": {},
   "outputs": [],
   "source": [
    "df = pd.read_csv(url)"
   ]
  },
  {
   "cell_type": "code",
   "execution_count": 10,
   "id": "5d1470b7",
   "metadata": {},
   "outputs": [
    {
     "data": {
      "text/html": [
       "<div>\n",
       "<style scoped>\n",
       "    .dataframe tbody tr th:only-of-type {\n",
       "        vertical-align: middle;\n",
       "    }\n",
       "\n",
       "    .dataframe tbody tr th {\n",
       "        vertical-align: top;\n",
       "    }\n",
       "\n",
       "    .dataframe thead th {\n",
       "        text-align: right;\n",
       "    }\n",
       "</style>\n",
       "<table border=\"1\" class=\"dataframe\">\n",
       "  <thead>\n",
       "    <tr style=\"text-align: right;\">\n",
       "      <th></th>\n",
       "      <th>MODELYEAR</th>\n",
       "      <th>MAKE</th>\n",
       "      <th>MODEL</th>\n",
       "      <th>VEHICLECLASS</th>\n",
       "      <th>ENGINESIZE</th>\n",
       "      <th>CYLINDERS</th>\n",
       "      <th>TRANSMISSION</th>\n",
       "      <th>FUELTYPE</th>\n",
       "      <th>FUELCONSUMPTION_CITY</th>\n",
       "      <th>FUELCONSUMPTION_HWY</th>\n",
       "      <th>FUELCONSUMPTION_COMB</th>\n",
       "      <th>FUELCONSUMPTION_COMB_MPG</th>\n",
       "      <th>CO2EMISSIONS</th>\n",
       "    </tr>\n",
       "  </thead>\n",
       "  <tbody>\n",
       "    <tr>\n",
       "      <th>745</th>\n",
       "      <td>2014</td>\n",
       "      <td>MERCEDES-BENZ</td>\n",
       "      <td>E 350 COUPE</td>\n",
       "      <td>SUBCOMPACT</td>\n",
       "      <td>3.5</td>\n",
       "      <td>6</td>\n",
       "      <td>AS7</td>\n",
       "      <td>Z</td>\n",
       "      <td>11.9</td>\n",
       "      <td>8.2</td>\n",
       "      <td>10.2</td>\n",
       "      <td>28</td>\n",
       "      <td>235</td>\n",
       "    </tr>\n",
       "    <tr>\n",
       "      <th>523</th>\n",
       "      <td>2014</td>\n",
       "      <td>HYUNDAI</td>\n",
       "      <td>VELOSTER</td>\n",
       "      <td>COMPACT</td>\n",
       "      <td>1.6</td>\n",
       "      <td>4</td>\n",
       "      <td>M6</td>\n",
       "      <td>X</td>\n",
       "      <td>9.1</td>\n",
       "      <td>6.7</td>\n",
       "      <td>8.0</td>\n",
       "      <td>35</td>\n",
       "      <td>184</td>\n",
       "    </tr>\n",
       "    <tr>\n",
       "      <th>903</th>\n",
       "      <td>2014</td>\n",
       "      <td>PORSCHE</td>\n",
       "      <td>PANAMERA 4S</td>\n",
       "      <td>FULL-SIZE</td>\n",
       "      <td>3.0</td>\n",
       "      <td>6</td>\n",
       "      <td>AM7</td>\n",
       "      <td>Z</td>\n",
       "      <td>13.4</td>\n",
       "      <td>8.8</td>\n",
       "      <td>11.3</td>\n",
       "      <td>25</td>\n",
       "      <td>260</td>\n",
       "    </tr>\n",
       "    <tr>\n",
       "      <th>1005</th>\n",
       "      <td>2014</td>\n",
       "      <td>TOYOTA</td>\n",
       "      <td>TUNDRA</td>\n",
       "      <td>PICKUP TRUCK - STANDARD</td>\n",
       "      <td>5.7</td>\n",
       "      <td>8</td>\n",
       "      <td>AS6</td>\n",
       "      <td>X</td>\n",
       "      <td>17.6</td>\n",
       "      <td>12.9</td>\n",
       "      <td>15.5</td>\n",
       "      <td>18</td>\n",
       "      <td>356</td>\n",
       "    </tr>\n",
       "    <tr>\n",
       "      <th>436</th>\n",
       "      <td>2014</td>\n",
       "      <td>GMC</td>\n",
       "      <td>SAVANA 1500 CARGO</td>\n",
       "      <td>VAN - CARGO</td>\n",
       "      <td>5.3</td>\n",
       "      <td>8</td>\n",
       "      <td>A4</td>\n",
       "      <td>E</td>\n",
       "      <td>23.5</td>\n",
       "      <td>17.7</td>\n",
       "      <td>20.9</td>\n",
       "      <td>14</td>\n",
       "      <td>334</td>\n",
       "    </tr>\n",
       "  </tbody>\n",
       "</table>\n",
       "</div>"
      ],
      "text/plain": [
       "      MODELYEAR           MAKE              MODEL             VEHICLECLASS  \\\n",
       "745        2014  MERCEDES-BENZ        E 350 COUPE               SUBCOMPACT   \n",
       "523        2014        HYUNDAI           VELOSTER                  COMPACT   \n",
       "903        2014        PORSCHE        PANAMERA 4S                FULL-SIZE   \n",
       "1005       2014         TOYOTA             TUNDRA  PICKUP TRUCK - STANDARD   \n",
       "436        2014            GMC  SAVANA 1500 CARGO              VAN - CARGO   \n",
       "\n",
       "      ENGINESIZE  CYLINDERS TRANSMISSION FUELTYPE  FUELCONSUMPTION_CITY  \\\n",
       "745          3.5          6          AS7        Z                  11.9   \n",
       "523          1.6          4           M6        X                   9.1   \n",
       "903          3.0          6          AM7        Z                  13.4   \n",
       "1005         5.7          8          AS6        X                  17.6   \n",
       "436          5.3          8           A4        E                  23.5   \n",
       "\n",
       "      FUELCONSUMPTION_HWY  FUELCONSUMPTION_COMB  FUELCONSUMPTION_COMB_MPG  \\\n",
       "745                   8.2                  10.2                        28   \n",
       "523                   6.7                   8.0                        35   \n",
       "903                   8.8                  11.3                        25   \n",
       "1005                 12.9                  15.5                        18   \n",
       "436                  17.7                  20.9                        14   \n",
       "\n",
       "      CO2EMISSIONS  \n",
       "745            235  \n",
       "523            184  \n",
       "903            260  \n",
       "1005           356  \n",
       "436            334  "
      ]
     },
     "execution_count": 10,
     "metadata": {},
     "output_type": "execute_result"
    }
   ],
   "source": [
    "# Verify the successful load with some random selected data \n",
    "df.sample(5)"
   ]
  },
  {
   "cell_type": "code",
   "execution_count": null,
   "id": "22fea51e",
   "metadata": {},
   "outputs": [],
   "source": []
  }
 ],
 "metadata": {
  "kernelspec": {
   "display_name": "Python 3",
   "language": "python",
   "name": "python3"
  },
  "language_info": {
   "codemirror_mode": {
    "name": "ipython",
    "version": 3
   },
   "file_extension": ".py",
   "mimetype": "text/x-python",
   "name": "python",
   "nbconvert_exporter": "python",
   "pygments_lexer": "ipython3",
   "version": "3.12.10"
  }
 },
 "nbformat": 4,
 "nbformat_minor": 5
}
